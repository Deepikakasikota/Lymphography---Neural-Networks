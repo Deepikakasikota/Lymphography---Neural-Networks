{
 "cells": [
  {
   "cell_type": "markdown",
   "id": "3c994f46",
   "metadata": {},
   "source": [
    "# Lymphography Dataset - (Neural Networks)"
   ]
  },
  {
   "cell_type": "markdown",
   "id": "57733fc1",
   "metadata": {},
   "source": [
    "## Building the Deep learning model on Lymphography dataset:"
   ]
  },
  {
   "cell_type": "markdown",
   "id": "ab2ffae8",
   "metadata": {},
   "source": [
    "This analysis aims to observe which features are most helpful in prediction and to see general trends that may aid us in model selection and hyper parameter selection. The goal is to enhance lymphatic diseases diagnosis. To achieve this I have used Deep learning (Neural Networks) method to fit a model that can predict the discrete class of new input."
   ]
  },
  {
   "cell_type": "markdown",
   "id": "19c639db",
   "metadata": {},
   "source": [
    "### Importing Libraries:"
   ]
  },
  {
   "cell_type": "code",
   "execution_count": 1,
   "id": "dff4dfaa",
   "metadata": {},
   "outputs": [],
   "source": [
    "import numpy as np\n",
    "import pandas as pd\n",
    "import matplotlib.pyplot as plt\n",
    "%matplotlib inline\n",
    "import seaborn as sns\n",
    "\n",
    "#import warnings\n",
    "import warnings\n",
    "warnings.filterwarnings('ignore')"
   ]
  },
  {
   "cell_type": "markdown",
   "id": "3492f052",
   "metadata": {},
   "source": [
    "### Load the Data:"
   ]
  },
  {
   "cell_type": "code",
   "execution_count": 2,
   "id": "143970fc",
   "metadata": {},
   "outputs": [
    {
     "data": {
      "text/html": [
       "<div>\n",
       "<style scoped>\n",
       "    .dataframe tbody tr th:only-of-type {\n",
       "        vertical-align: middle;\n",
       "    }\n",
       "\n",
       "    .dataframe tbody tr th {\n",
       "        vertical-align: top;\n",
       "    }\n",
       "\n",
       "    .dataframe thead th {\n",
       "        text-align: right;\n",
       "    }\n",
       "</style>\n",
       "<table border=\"1\" class=\"dataframe\">\n",
       "  <thead>\n",
       "    <tr style=\"text-align: right;\">\n",
       "      <th></th>\n",
       "      <th>3</th>\n",
       "      <th>4</th>\n",
       "      <th>2</th>\n",
       "      <th>1</th>\n",
       "      <th>1.1</th>\n",
       "      <th>1.2</th>\n",
       "      <th>1.3</th>\n",
       "      <th>1.4</th>\n",
       "      <th>2.1</th>\n",
       "      <th>1.5</th>\n",
       "      <th>2.2</th>\n",
       "      <th>2.3</th>\n",
       "      <th>2.4</th>\n",
       "      <th>4.1</th>\n",
       "      <th>8</th>\n",
       "      <th>1.6</th>\n",
       "      <th>1.7</th>\n",
       "      <th>2.5</th>\n",
       "      <th>2.6</th>\n",
       "    </tr>\n",
       "  </thead>\n",
       "  <tbody>\n",
       "    <tr>\n",
       "      <th>0</th>\n",
       "      <td>2</td>\n",
       "      <td>3</td>\n",
       "      <td>2</td>\n",
       "      <td>1</td>\n",
       "      <td>1</td>\n",
       "      <td>2</td>\n",
       "      <td>2</td>\n",
       "      <td>1</td>\n",
       "      <td>2</td>\n",
       "      <td>1</td>\n",
       "      <td>3</td>\n",
       "      <td>3</td>\n",
       "      <td>2</td>\n",
       "      <td>3</td>\n",
       "      <td>4</td>\n",
       "      <td>2</td>\n",
       "      <td>2</td>\n",
       "      <td>2</td>\n",
       "      <td>2</td>\n",
       "    </tr>\n",
       "    <tr>\n",
       "      <th>1</th>\n",
       "      <td>3</td>\n",
       "      <td>3</td>\n",
       "      <td>2</td>\n",
       "      <td>2</td>\n",
       "      <td>2</td>\n",
       "      <td>2</td>\n",
       "      <td>2</td>\n",
       "      <td>2</td>\n",
       "      <td>2</td>\n",
       "      <td>1</td>\n",
       "      <td>4</td>\n",
       "      <td>3</td>\n",
       "      <td>3</td>\n",
       "      <td>4</td>\n",
       "      <td>8</td>\n",
       "      <td>3</td>\n",
       "      <td>2</td>\n",
       "      <td>2</td>\n",
       "      <td>7</td>\n",
       "    </tr>\n",
       "    <tr>\n",
       "      <th>2</th>\n",
       "      <td>3</td>\n",
       "      <td>3</td>\n",
       "      <td>1</td>\n",
       "      <td>1</td>\n",
       "      <td>1</td>\n",
       "      <td>1</td>\n",
       "      <td>2</td>\n",
       "      <td>1</td>\n",
       "      <td>2</td>\n",
       "      <td>1</td>\n",
       "      <td>3</td>\n",
       "      <td>3</td>\n",
       "      <td>4</td>\n",
       "      <td>4</td>\n",
       "      <td>4</td>\n",
       "      <td>3</td>\n",
       "      <td>1</td>\n",
       "      <td>2</td>\n",
       "      <td>6</td>\n",
       "    </tr>\n",
       "    <tr>\n",
       "      <th>3</th>\n",
       "      <td>2</td>\n",
       "      <td>3</td>\n",
       "      <td>1</td>\n",
       "      <td>1</td>\n",
       "      <td>1</td>\n",
       "      <td>1</td>\n",
       "      <td>1</td>\n",
       "      <td>1</td>\n",
       "      <td>1</td>\n",
       "      <td>1</td>\n",
       "      <td>2</td>\n",
       "      <td>2</td>\n",
       "      <td>4</td>\n",
       "      <td>3</td>\n",
       "      <td>5</td>\n",
       "      <td>1</td>\n",
       "      <td>2</td>\n",
       "      <td>2</td>\n",
       "      <td>1</td>\n",
       "    </tr>\n",
       "    <tr>\n",
       "      <th>4</th>\n",
       "      <td>2</td>\n",
       "      <td>2</td>\n",
       "      <td>1</td>\n",
       "      <td>1</td>\n",
       "      <td>1</td>\n",
       "      <td>1</td>\n",
       "      <td>1</td>\n",
       "      <td>1</td>\n",
       "      <td>2</td>\n",
       "      <td>1</td>\n",
       "      <td>3</td>\n",
       "      <td>3</td>\n",
       "      <td>3</td>\n",
       "      <td>3</td>\n",
       "      <td>6</td>\n",
       "      <td>3</td>\n",
       "      <td>1</td>\n",
       "      <td>2</td>\n",
       "      <td>4</td>\n",
       "    </tr>\n",
       "  </tbody>\n",
       "</table>\n",
       "</div>"
      ],
      "text/plain": [
       "   3  4  2  1  1.1  1.2  1.3  1.4  2.1  1.5  2.2  2.3  2.4  4.1  8  1.6  1.7  \\\n",
       "0  2  3  2  1    1    2    2    1    2    1    3    3    2    3  4    2    2   \n",
       "1  3  3  2  2    2    2    2    2    2    1    4    3    3    4  8    3    2   \n",
       "2  3  3  1  1    1    1    2    1    2    1    3    3    4    4  4    3    1   \n",
       "3  2  3  1  1    1    1    1    1    1    1    2    2    4    3  5    1    2   \n",
       "4  2  2  1  1    1    1    1    1    2    1    3    3    3    3  6    3    1   \n",
       "\n",
       "   2.5  2.6  \n",
       "0    2    2  \n",
       "1    2    7  \n",
       "2    2    6  \n",
       "3    2    1  \n",
       "4    2    4  "
      ]
     },
     "execution_count": 2,
     "metadata": {},
     "output_type": "execute_result"
    }
   ],
   "source": [
    "df = pd.read_csv(\"C:\\\\projects\\\\Lymphography_project\\\\data\\\\lymphography.csv\")\n",
    "df.head()"
   ]
  },
  {
   "cell_type": "markdown",
   "id": "7cd4dba3",
   "metadata": {},
   "source": [
    "#### We see in the dataset there is no column values. To add the headers list all the column names."
   ]
  },
  {
   "cell_type": "code",
   "execution_count": 3,
   "id": "c8c550b5",
   "metadata": {},
   "outputs": [],
   "source": [
    "# column names that gives in txt file..\n",
    "\n",
    "df.columns = ['class','lymphatics','block of affere','bl. of lymph. c','bl. of lymph. s','by pass','extravasates','regeneration of',\n",
    "            'early uptake in','lym.nodes dimin','lym.nodes enlar','changes in lym','defect in node','changes in node',\n",
    "            'changes in stru','special forms','dislocation of','exclusion of no','no. of nodes in']"
   ]
  },
  {
   "cell_type": "code",
   "execution_count": 4,
   "id": "b743df7b",
   "metadata": {},
   "outputs": [
    {
     "data": {
      "text/html": [
       "<div>\n",
       "<style scoped>\n",
       "    .dataframe tbody tr th:only-of-type {\n",
       "        vertical-align: middle;\n",
       "    }\n",
       "\n",
       "    .dataframe tbody tr th {\n",
       "        vertical-align: top;\n",
       "    }\n",
       "\n",
       "    .dataframe thead th {\n",
       "        text-align: right;\n",
       "    }\n",
       "</style>\n",
       "<table border=\"1\" class=\"dataframe\">\n",
       "  <thead>\n",
       "    <tr style=\"text-align: right;\">\n",
       "      <th></th>\n",
       "      <th>class</th>\n",
       "      <th>lymphatics</th>\n",
       "      <th>block of affere</th>\n",
       "      <th>bl. of lymph. c</th>\n",
       "      <th>bl. of lymph. s</th>\n",
       "      <th>by pass</th>\n",
       "      <th>extravasates</th>\n",
       "      <th>regeneration of</th>\n",
       "      <th>early uptake in</th>\n",
       "      <th>lym.nodes dimin</th>\n",
       "      <th>lym.nodes enlar</th>\n",
       "      <th>changes in lym</th>\n",
       "      <th>defect in node</th>\n",
       "      <th>changes in node</th>\n",
       "      <th>changes in stru</th>\n",
       "      <th>special forms</th>\n",
       "      <th>dislocation of</th>\n",
       "      <th>exclusion of no</th>\n",
       "      <th>no. of nodes in</th>\n",
       "    </tr>\n",
       "  </thead>\n",
       "  <tbody>\n",
       "    <tr>\n",
       "      <th>0</th>\n",
       "      <td>2</td>\n",
       "      <td>3</td>\n",
       "      <td>2</td>\n",
       "      <td>1</td>\n",
       "      <td>1</td>\n",
       "      <td>2</td>\n",
       "      <td>2</td>\n",
       "      <td>1</td>\n",
       "      <td>2</td>\n",
       "      <td>1</td>\n",
       "      <td>3</td>\n",
       "      <td>3</td>\n",
       "      <td>2</td>\n",
       "      <td>3</td>\n",
       "      <td>4</td>\n",
       "      <td>2</td>\n",
       "      <td>2</td>\n",
       "      <td>2</td>\n",
       "      <td>2</td>\n",
       "    </tr>\n",
       "    <tr>\n",
       "      <th>1</th>\n",
       "      <td>3</td>\n",
       "      <td>3</td>\n",
       "      <td>2</td>\n",
       "      <td>2</td>\n",
       "      <td>2</td>\n",
       "      <td>2</td>\n",
       "      <td>2</td>\n",
       "      <td>2</td>\n",
       "      <td>2</td>\n",
       "      <td>1</td>\n",
       "      <td>4</td>\n",
       "      <td>3</td>\n",
       "      <td>3</td>\n",
       "      <td>4</td>\n",
       "      <td>8</td>\n",
       "      <td>3</td>\n",
       "      <td>2</td>\n",
       "      <td>2</td>\n",
       "      <td>7</td>\n",
       "    </tr>\n",
       "    <tr>\n",
       "      <th>2</th>\n",
       "      <td>3</td>\n",
       "      <td>3</td>\n",
       "      <td>1</td>\n",
       "      <td>1</td>\n",
       "      <td>1</td>\n",
       "      <td>1</td>\n",
       "      <td>2</td>\n",
       "      <td>1</td>\n",
       "      <td>2</td>\n",
       "      <td>1</td>\n",
       "      <td>3</td>\n",
       "      <td>3</td>\n",
       "      <td>4</td>\n",
       "      <td>4</td>\n",
       "      <td>4</td>\n",
       "      <td>3</td>\n",
       "      <td>1</td>\n",
       "      <td>2</td>\n",
       "      <td>6</td>\n",
       "    </tr>\n",
       "    <tr>\n",
       "      <th>3</th>\n",
       "      <td>2</td>\n",
       "      <td>3</td>\n",
       "      <td>1</td>\n",
       "      <td>1</td>\n",
       "      <td>1</td>\n",
       "      <td>1</td>\n",
       "      <td>1</td>\n",
       "      <td>1</td>\n",
       "      <td>1</td>\n",
       "      <td>1</td>\n",
       "      <td>2</td>\n",
       "      <td>2</td>\n",
       "      <td>4</td>\n",
       "      <td>3</td>\n",
       "      <td>5</td>\n",
       "      <td>1</td>\n",
       "      <td>2</td>\n",
       "      <td>2</td>\n",
       "      <td>1</td>\n",
       "    </tr>\n",
       "    <tr>\n",
       "      <th>4</th>\n",
       "      <td>2</td>\n",
       "      <td>2</td>\n",
       "      <td>1</td>\n",
       "      <td>1</td>\n",
       "      <td>1</td>\n",
       "      <td>1</td>\n",
       "      <td>1</td>\n",
       "      <td>1</td>\n",
       "      <td>2</td>\n",
       "      <td>1</td>\n",
       "      <td>3</td>\n",
       "      <td>3</td>\n",
       "      <td>3</td>\n",
       "      <td>3</td>\n",
       "      <td>6</td>\n",
       "      <td>3</td>\n",
       "      <td>1</td>\n",
       "      <td>2</td>\n",
       "      <td>4</td>\n",
       "    </tr>\n",
       "  </tbody>\n",
       "</table>\n",
       "</div>"
      ],
      "text/plain": [
       "   class  lymphatics  block of affere  bl. of lymph. c  bl. of lymph. s  \\\n",
       "0      2           3                2                1                1   \n",
       "1      3           3                2                2                2   \n",
       "2      3           3                1                1                1   \n",
       "3      2           3                1                1                1   \n",
       "4      2           2                1                1                1   \n",
       "\n",
       "   by pass  extravasates  regeneration of  early uptake in  lym.nodes dimin  \\\n",
       "0        2             2                1                2                1   \n",
       "1        2             2                2                2                1   \n",
       "2        1             2                1                2                1   \n",
       "3        1             1                1                1                1   \n",
       "4        1             1                1                2                1   \n",
       "\n",
       "   lym.nodes enlar  changes in lym  defect in node  changes in node  \\\n",
       "0                3               3               2                3   \n",
       "1                4               3               3                4   \n",
       "2                3               3               4                4   \n",
       "3                2               2               4                3   \n",
       "4                3               3               3                3   \n",
       "\n",
       "   changes in stru  special forms  dislocation of  exclusion of no  \\\n",
       "0                4              2               2                2   \n",
       "1                8              3               2                2   \n",
       "2                4              3               1                2   \n",
       "3                5              1               2                2   \n",
       "4                6              3               1                2   \n",
       "\n",
       "   no. of nodes in  \n",
       "0                2  \n",
       "1                7  \n",
       "2                6  \n",
       "3                1  \n",
       "4                4  "
      ]
     },
     "execution_count": 4,
     "metadata": {},
     "output_type": "execute_result"
    }
   ],
   "source": [
    "df.head()"
   ]
  },
  {
   "cell_type": "code",
   "execution_count": 5,
   "id": "70465787",
   "metadata": {},
   "outputs": [
    {
     "data": {
      "text/plain": [
       "(147, 19)"
      ]
     },
     "execution_count": 5,
     "metadata": {},
     "output_type": "execute_result"
    }
   ],
   "source": [
    "# let's check the shape of the dataset..\n",
    "\n",
    "df.shape"
   ]
  },
  {
   "cell_type": "code",
   "execution_count": 6,
   "id": "8741e190",
   "metadata": {},
   "outputs": [
    {
     "data": {
      "text/plain": [
       "class              0\n",
       "lymphatics         0\n",
       "block of affere    0\n",
       "bl. of lymph. c    0\n",
       "bl. of lymph. s    0\n",
       "by pass            0\n",
       "extravasates       0\n",
       "regeneration of    0\n",
       "early uptake in    0\n",
       "lym.nodes dimin    0\n",
       "lym.nodes enlar    0\n",
       "changes in lym     0\n",
       "defect in node     0\n",
       "changes in node    0\n",
       "changes in stru    0\n",
       "special forms      0\n",
       "dislocation of     0\n",
       "exclusion of no    0\n",
       "no. of nodes in    0\n",
       "dtype: int64"
      ]
     },
     "execution_count": 6,
     "metadata": {},
     "output_type": "execute_result"
    }
   ],
   "source": [
    "# findout the null values..\n",
    "\n",
    "df.isnull().sum()"
   ]
  },
  {
   "cell_type": "markdown",
   "id": "e1aecf8a",
   "metadata": {},
   "source": [
    "so, there is no null values are present in our dataset."
   ]
  },
  {
   "cell_type": "code",
   "execution_count": 7,
   "id": "77316adb",
   "metadata": {},
   "outputs": [
    {
     "data": {
      "text/plain": [
       "class              int64\n",
       "lymphatics         int64\n",
       "block of affere    int64\n",
       "bl. of lymph. c    int64\n",
       "bl. of lymph. s    int64\n",
       "by pass            int64\n",
       "extravasates       int64\n",
       "regeneration of    int64\n",
       "early uptake in    int64\n",
       "lym.nodes dimin    int64\n",
       "lym.nodes enlar    int64\n",
       "changes in lym     int64\n",
       "defect in node     int64\n",
       "changes in node    int64\n",
       "changes in stru    int64\n",
       "special forms      int64\n",
       "dislocation of     int64\n",
       "exclusion of no    int64\n",
       "no. of nodes in    int64\n",
       "dtype: object"
      ]
     },
     "execution_count": 7,
     "metadata": {},
     "output_type": "execute_result"
    }
   ],
   "source": [
    "# type of the columns..\n",
    "\n",
    "df.dtypes"
   ]
  },
  {
   "cell_type": "code",
   "execution_count": 8,
   "id": "296760d4",
   "metadata": {},
   "outputs": [
    {
     "data": {
      "text/html": [
       "<div>\n",
       "<style scoped>\n",
       "    .dataframe tbody tr th:only-of-type {\n",
       "        vertical-align: middle;\n",
       "    }\n",
       "\n",
       "    .dataframe tbody tr th {\n",
       "        vertical-align: top;\n",
       "    }\n",
       "\n",
       "    .dataframe thead th {\n",
       "        text-align: right;\n",
       "    }\n",
       "</style>\n",
       "<table border=\"1\" class=\"dataframe\">\n",
       "  <thead>\n",
       "    <tr style=\"text-align: right;\">\n",
       "      <th></th>\n",
       "      <th>class</th>\n",
       "      <th>lymphatics</th>\n",
       "      <th>block of affere</th>\n",
       "      <th>bl. of lymph. c</th>\n",
       "      <th>bl. of lymph. s</th>\n",
       "      <th>by pass</th>\n",
       "      <th>extravasates</th>\n",
       "      <th>regeneration of</th>\n",
       "      <th>early uptake in</th>\n",
       "      <th>lym.nodes dimin</th>\n",
       "      <th>lym.nodes enlar</th>\n",
       "      <th>changes in lym</th>\n",
       "      <th>defect in node</th>\n",
       "      <th>changes in node</th>\n",
       "      <th>changes in stru</th>\n",
       "      <th>special forms</th>\n",
       "      <th>dislocation of</th>\n",
       "      <th>exclusion of no</th>\n",
       "      <th>no. of nodes in</th>\n",
       "    </tr>\n",
       "  </thead>\n",
       "  <tbody>\n",
       "    <tr>\n",
       "      <th>count</th>\n",
       "      <td>147.000000</td>\n",
       "      <td>147.000000</td>\n",
       "      <td>147.000000</td>\n",
       "      <td>147.000000</td>\n",
       "      <td>147.000000</td>\n",
       "      <td>147.000000</td>\n",
       "      <td>147.000000</td>\n",
       "      <td>147.000000</td>\n",
       "      <td>147.000000</td>\n",
       "      <td>147.000000</td>\n",
       "      <td>147.000000</td>\n",
       "      <td>147.000000</td>\n",
       "      <td>147.000000</td>\n",
       "      <td>147.000000</td>\n",
       "      <td>147.000000</td>\n",
       "      <td>147.000000</td>\n",
       "      <td>147.000000</td>\n",
       "      <td>147.000000</td>\n",
       "      <td>147.000000</td>\n",
       "    </tr>\n",
       "    <tr>\n",
       "      <th>mean</th>\n",
       "      <td>2.448980</td>\n",
       "      <td>2.734694</td>\n",
       "      <td>1.551020</td>\n",
       "      <td>1.176871</td>\n",
       "      <td>1.047619</td>\n",
       "      <td>1.244898</td>\n",
       "      <td>1.510204</td>\n",
       "      <td>1.068027</td>\n",
       "      <td>1.700680</td>\n",
       "      <td>1.061224</td>\n",
       "      <td>2.476190</td>\n",
       "      <td>2.401361</td>\n",
       "      <td>2.972789</td>\n",
       "      <td>2.795918</td>\n",
       "      <td>5.197279</td>\n",
       "      <td>2.340136</td>\n",
       "      <td>1.666667</td>\n",
       "      <td>1.789116</td>\n",
       "      <td>2.605442</td>\n",
       "    </tr>\n",
       "    <tr>\n",
       "      <th>std</th>\n",
       "      <td>0.575572</td>\n",
       "      <td>0.813638</td>\n",
       "      <td>0.499091</td>\n",
       "      <td>0.382864</td>\n",
       "      <td>0.213687</td>\n",
       "      <td>0.431497</td>\n",
       "      <td>0.501605</td>\n",
       "      <td>0.252653</td>\n",
       "      <td>0.459526</td>\n",
       "      <td>0.314588</td>\n",
       "      <td>0.838568</td>\n",
       "      <td>0.569305</td>\n",
       "      <td>0.867571</td>\n",
       "      <td>0.757960</td>\n",
       "      <td>2.166493</td>\n",
       "      <td>0.771909</td>\n",
       "      <td>0.473016</td>\n",
       "      <td>0.409331</td>\n",
       "      <td>1.910884</td>\n",
       "    </tr>\n",
       "    <tr>\n",
       "      <th>min</th>\n",
       "      <td>1.000000</td>\n",
       "      <td>1.000000</td>\n",
       "      <td>1.000000</td>\n",
       "      <td>1.000000</td>\n",
       "      <td>1.000000</td>\n",
       "      <td>1.000000</td>\n",
       "      <td>1.000000</td>\n",
       "      <td>1.000000</td>\n",
       "      <td>1.000000</td>\n",
       "      <td>1.000000</td>\n",
       "      <td>1.000000</td>\n",
       "      <td>1.000000</td>\n",
       "      <td>1.000000</td>\n",
       "      <td>1.000000</td>\n",
       "      <td>1.000000</td>\n",
       "      <td>1.000000</td>\n",
       "      <td>1.000000</td>\n",
       "      <td>1.000000</td>\n",
       "      <td>1.000000</td>\n",
       "    </tr>\n",
       "    <tr>\n",
       "      <th>25%</th>\n",
       "      <td>2.000000</td>\n",
       "      <td>2.000000</td>\n",
       "      <td>1.000000</td>\n",
       "      <td>1.000000</td>\n",
       "      <td>1.000000</td>\n",
       "      <td>1.000000</td>\n",
       "      <td>1.000000</td>\n",
       "      <td>1.000000</td>\n",
       "      <td>1.000000</td>\n",
       "      <td>1.000000</td>\n",
       "      <td>2.000000</td>\n",
       "      <td>2.000000</td>\n",
       "      <td>2.000000</td>\n",
       "      <td>2.000000</td>\n",
       "      <td>4.000000</td>\n",
       "      <td>2.000000</td>\n",
       "      <td>1.000000</td>\n",
       "      <td>2.000000</td>\n",
       "      <td>1.000000</td>\n",
       "    </tr>\n",
       "    <tr>\n",
       "      <th>50%</th>\n",
       "      <td>2.000000</td>\n",
       "      <td>3.000000</td>\n",
       "      <td>2.000000</td>\n",
       "      <td>1.000000</td>\n",
       "      <td>1.000000</td>\n",
       "      <td>1.000000</td>\n",
       "      <td>2.000000</td>\n",
       "      <td>1.000000</td>\n",
       "      <td>2.000000</td>\n",
       "      <td>1.000000</td>\n",
       "      <td>2.000000</td>\n",
       "      <td>2.000000</td>\n",
       "      <td>3.000000</td>\n",
       "      <td>3.000000</td>\n",
       "      <td>5.000000</td>\n",
       "      <td>3.000000</td>\n",
       "      <td>2.000000</td>\n",
       "      <td>2.000000</td>\n",
       "      <td>2.000000</td>\n",
       "    </tr>\n",
       "    <tr>\n",
       "      <th>75%</th>\n",
       "      <td>3.000000</td>\n",
       "      <td>3.000000</td>\n",
       "      <td>2.000000</td>\n",
       "      <td>1.000000</td>\n",
       "      <td>1.000000</td>\n",
       "      <td>1.000000</td>\n",
       "      <td>2.000000</td>\n",
       "      <td>1.000000</td>\n",
       "      <td>2.000000</td>\n",
       "      <td>1.000000</td>\n",
       "      <td>3.000000</td>\n",
       "      <td>3.000000</td>\n",
       "      <td>4.000000</td>\n",
       "      <td>3.000000</td>\n",
       "      <td>8.000000</td>\n",
       "      <td>3.000000</td>\n",
       "      <td>2.000000</td>\n",
       "      <td>2.000000</td>\n",
       "      <td>3.000000</td>\n",
       "    </tr>\n",
       "    <tr>\n",
       "      <th>max</th>\n",
       "      <td>4.000000</td>\n",
       "      <td>4.000000</td>\n",
       "      <td>2.000000</td>\n",
       "      <td>2.000000</td>\n",
       "      <td>2.000000</td>\n",
       "      <td>2.000000</td>\n",
       "      <td>2.000000</td>\n",
       "      <td>2.000000</td>\n",
       "      <td>2.000000</td>\n",
       "      <td>3.000000</td>\n",
       "      <td>4.000000</td>\n",
       "      <td>3.000000</td>\n",
       "      <td>4.000000</td>\n",
       "      <td>4.000000</td>\n",
       "      <td>8.000000</td>\n",
       "      <td>3.000000</td>\n",
       "      <td>2.000000</td>\n",
       "      <td>2.000000</td>\n",
       "      <td>8.000000</td>\n",
       "    </tr>\n",
       "  </tbody>\n",
       "</table>\n",
       "</div>"
      ],
      "text/plain": [
       "            class  lymphatics  block of affere  bl. of lymph. c  \\\n",
       "count  147.000000  147.000000       147.000000       147.000000   \n",
       "mean     2.448980    2.734694         1.551020         1.176871   \n",
       "std      0.575572    0.813638         0.499091         0.382864   \n",
       "min      1.000000    1.000000         1.000000         1.000000   \n",
       "25%      2.000000    2.000000         1.000000         1.000000   \n",
       "50%      2.000000    3.000000         2.000000         1.000000   \n",
       "75%      3.000000    3.000000         2.000000         1.000000   \n",
       "max      4.000000    4.000000         2.000000         2.000000   \n",
       "\n",
       "       bl. of lymph. s     by pass  extravasates  regeneration of  \\\n",
       "count       147.000000  147.000000    147.000000       147.000000   \n",
       "mean          1.047619    1.244898      1.510204         1.068027   \n",
       "std           0.213687    0.431497      0.501605         0.252653   \n",
       "min           1.000000    1.000000      1.000000         1.000000   \n",
       "25%           1.000000    1.000000      1.000000         1.000000   \n",
       "50%           1.000000    1.000000      2.000000         1.000000   \n",
       "75%           1.000000    1.000000      2.000000         1.000000   \n",
       "max           2.000000    2.000000      2.000000         2.000000   \n",
       "\n",
       "       early uptake in  lym.nodes dimin  lym.nodes enlar  changes in lym  \\\n",
       "count       147.000000       147.000000       147.000000      147.000000   \n",
       "mean          1.700680         1.061224         2.476190        2.401361   \n",
       "std           0.459526         0.314588         0.838568        0.569305   \n",
       "min           1.000000         1.000000         1.000000        1.000000   \n",
       "25%           1.000000         1.000000         2.000000        2.000000   \n",
       "50%           2.000000         1.000000         2.000000        2.000000   \n",
       "75%           2.000000         1.000000         3.000000        3.000000   \n",
       "max           2.000000         3.000000         4.000000        3.000000   \n",
       "\n",
       "       defect in node  changes in node  changes in stru  special forms  \\\n",
       "count      147.000000       147.000000       147.000000     147.000000   \n",
       "mean         2.972789         2.795918         5.197279       2.340136   \n",
       "std          0.867571         0.757960         2.166493       0.771909   \n",
       "min          1.000000         1.000000         1.000000       1.000000   \n",
       "25%          2.000000         2.000000         4.000000       2.000000   \n",
       "50%          3.000000         3.000000         5.000000       3.000000   \n",
       "75%          4.000000         3.000000         8.000000       3.000000   \n",
       "max          4.000000         4.000000         8.000000       3.000000   \n",
       "\n",
       "       dislocation of  exclusion of no  no. of nodes in  \n",
       "count      147.000000       147.000000       147.000000  \n",
       "mean         1.666667         1.789116         2.605442  \n",
       "std          0.473016         0.409331         1.910884  \n",
       "min          1.000000         1.000000         1.000000  \n",
       "25%          1.000000         2.000000         1.000000  \n",
       "50%          2.000000         2.000000         2.000000  \n",
       "75%          2.000000         2.000000         3.000000  \n",
       "max          2.000000         2.000000         8.000000  "
      ]
     },
     "execution_count": 8,
     "metadata": {},
     "output_type": "execute_result"
    }
   ],
   "source": [
    "# let's do some stastical analysis on our data..\n",
    "\n",
    "df.describe()"
   ]
  },
  {
   "cell_type": "code",
   "execution_count": 9,
   "id": "5d00e0bc",
   "metadata": {},
   "outputs": [
    {
     "data": {
      "text/plain": [
       "Index(['class', 'lymphatics', 'block of affere', 'bl. of lymph. c',\n",
       "       'bl. of lymph. s', 'by pass', 'extravasates', 'regeneration of',\n",
       "       'early uptake in', 'lym.nodes dimin', 'lym.nodes enlar',\n",
       "       'changes in lym', 'defect in node', 'changes in node',\n",
       "       'changes in stru', 'special forms', 'dislocation of', 'exclusion of no',\n",
       "       'no. of nodes in'],\n",
       "      dtype='object')"
      ]
     },
     "execution_count": 9,
     "metadata": {},
     "output_type": "execute_result"
    }
   ],
   "source": [
    "# to check the duplicate columns..\n",
    "\n",
    "df.columns"
   ]
  },
  {
   "cell_type": "code",
   "execution_count": 10,
   "id": "6bb3525d",
   "metadata": {},
   "outputs": [
    {
     "data": {
      "text/plain": [
       "<AxesSubplot:>"
      ]
     },
     "execution_count": 10,
     "metadata": {},
     "output_type": "execute_result"
    },
    {
     "data": {
      "image/png": "[encoded data removed]",
      "text/plain": [
       "<Figure size 1080x1080 with 2 Axes>"
      ]
     },
     "metadata": {
      "needs_background": "light"
     },
     "output_type": "display_data"
    }
   ],
   "source": [
    "# plt a heat map..\n",
    "\n",
    "plt.figure(figsize=(15,15))\n",
    "sns.heatmap(df.corr(), annot=True)"
   ]
  },
  {
   "cell_type": "markdown",
   "id": "0ce0d281",
   "metadata": {},
   "source": [
    "### Let's split our dataset:"
   ]
  },
  {
   "cell_type": "code",
   "execution_count": 11,
   "id": "48698399",
   "metadata": {},
   "outputs": [],
   "source": [
    "# here our target column is class..\n",
    "\n",
    "y = df['class']\n",
    "x = df.drop('class',axis=1)"
   ]
  },
  {
   "cell_type": "code",
   "execution_count": 12,
   "id": "05b837eb",
   "metadata": {},
   "outputs": [
    {
     "data": {
      "text/plain": [
       "((147, 18), (147,))"
      ]
     },
     "execution_count": 12,
     "metadata": {},
     "output_type": "execute_result"
    }
   ],
   "source": [
    "x.shape, y.shape"
   ]
  },
  {
   "cell_type": "markdown",
   "id": "70b9c44a",
   "metadata": {},
   "source": [
    "### Let's check the data is Balansed or Imbalanced:"
   ]
  },
  {
   "cell_type": "code",
   "execution_count": 13,
   "id": "f85ddf23",
   "metadata": {},
   "outputs": [
    {
     "data": {
      "text/plain": [
       "2    81\n",
       "3    60\n",
       "4     4\n",
       "1     2\n",
       "Name: class, dtype: int64"
      ]
     },
     "execution_count": 13,
     "metadata": {},
     "output_type": "execute_result"
    }
   ],
   "source": [
    "df['class'].value_counts()"
   ]
  },
  {
   "cell_type": "code",
   "execution_count": 14,
   "id": "a9068f61",
   "metadata": {},
   "outputs": [
    {
     "data": {
      "image/png": "[encoded data removed]",
      "text/plain": [
       "<Figure size 504x360 with 1 Axes>"
      ]
     },
     "metadata": {
      "needs_background": "light"
     },
     "output_type": "display_data"
    }
   ],
   "source": [
    "# let's plot the countplot to better understanding..\n",
    "\n",
    "plt.figure(figsize=(7,5))\n",
    "sns.countplot(df['class'])\n",
    "plt.show()"
   ]
  },
  {
   "cell_type": "markdown",
   "id": "7db1eeb6",
   "metadata": {},
   "source": [
    "In the target column i.e 'class' has 4 attributes refers to:\n",
    "\n",
    " - 1 - normal find\n",
    " - 2 - metastases\n",
    " - 3 - malgin lymph\n",
    " - 4 - fibrosis"
   ]
  },
  {
   "cell_type": "markdown",
   "id": "14f31862",
   "metadata": {},
   "source": [
    "Here, we see that class-2 has majority compared to class 1&2. It is called ' data imbalancing'.\n",
    "To overcome this we use \" Imbalearn SMOT algorithm \" to balance the data."
   ]
  },
  {
   "cell_type": "markdown",
   "id": "a36facf5",
   "metadata": {},
   "source": [
    "### Balance the data(SMOT):"
   ]
  },
  {
   "cell_type": "code",
   "execution_count": 15,
   "id": "c11a742e",
   "metadata": {},
   "outputs": [
    {
     "name": "stdout",
     "output_type": "stream",
     "text": [
      "Requirement already satisfied: imbalanced-Learn in c:\\users\\91891\\anaconda3\\lib\\site-packages (0.9.1)\n",
      "Requirement already satisfied: scipy>=1.3.2 in c:\\users\\91891\\anaconda3\\lib\\site-packages (from imbalanced-Learn) (1.7.3)\n",
      "Requirement already satisfied: scikit-learn>=1.1.0 in c:\\users\\91891\\anaconda3\\lib\\site-packages (from imbalanced-Learn) (1.1.3)\n",
      "Requirement already satisfied: numpy>=1.17.3 in c:\\users\\91891\\anaconda3\\lib\\site-packages (from imbalanced-Learn) (1.20.3)\n",
      "Requirement already satisfied: joblib>=1.0.0 in c:\\users\\91891\\anaconda3\\lib\\site-packages (from imbalanced-Learn) (1.1.0)\n",
      "Requirement already satisfied: threadpoolctl>=2.0.0 in c:\\users\\91891\\anaconda3\\lib\\site-packages (from imbalanced-Learn) (2.2.0)\n"
     ]
    }
   ],
   "source": [
    "\n",
    "!pip install imbalanced-Learn"
   ]
  },
  {
   "cell_type": "code",
   "execution_count": 16,
   "id": "20549b90",
   "metadata": {},
   "outputs": [],
   "source": [
    "# import SMOT..\n",
    "\n",
    "from sklearn.neighbors import KNeighborsClassifier\n",
    "from imblearn.over_sampling import SMOTE\n",
    "\n",
    "over_sample = SMOTE(k_neighbors=1)\n",
    "x_sm,y_sm = over_sample.fit_resample(x,y)"
   ]
  },
  {
   "cell_type": "code",
   "execution_count": 17,
   "id": "05d48654",
   "metadata": {},
   "outputs": [
    {
     "data": {
      "text/plain": [
       "((324, 18), (324,))"
      ]
     },
     "execution_count": 17,
     "metadata": {},
     "output_type": "execute_result"
    }
   ],
   "source": [
    "x_sm.shape, y_sm.shape"
   ]
  },
  {
   "cell_type": "markdown",
   "id": "5c2bd8a6",
   "metadata": {},
   "source": [
    "### Train and Test the data:\n"
   ]
  },
  {
   "cell_type": "code",
   "execution_count": 18,
   "id": "663c916a",
   "metadata": {},
   "outputs": [],
   "source": [
    "from sklearn.model_selection import train_test_split\n",
    "x_train, x_test, y_train, y_test = train_test_split(x_sm, y_sm, test_size=0.2, random_state=15, stratify=y_sm)"
   ]
  },
  {
   "cell_type": "code",
   "execution_count": 19,
   "id": "e74a9b2b",
   "metadata": {},
   "outputs": [
    {
     "data": {
      "text/plain": [
       "((259, 18), (259,), (65, 18), (65,))"
      ]
     },
     "execution_count": 19,
     "metadata": {},
     "output_type": "execute_result"
    }
   ],
   "source": [
    "x_train.shape, y_train.shape, x_test.shape, y_test.shape"
   ]
  },
  {
   "cell_type": "markdown",
   "id": "65d070b1",
   "metadata": {},
   "source": [
    "### Creating a model using Neural-Networks:"
   ]
  },
  {
   "cell_type": "code",
   "execution_count": 20,
   "id": "8fed4f8e",
   "metadata": {},
   "outputs": [
    {
     "name": "stdout",
     "output_type": "stream",
     "text": [
      "Epoch 1/100\n",
      "9/9 [==============================] - 5s 8ms/step - loss: 0.0000e+00 - accuracy: 0.2471\n",
      "Epoch 2/100\n",
      "9/9 [==============================] - 0s 3ms/step - loss: 0.0000e+00 - accuracy: 0.2471\n",
      "Epoch 3/100\n",
      "9/9 [==============================] - 0s 2ms/step - loss: 0.0000e+00 - accuracy: 0.2471\n",
      "Epoch 4/100\n",
      "9/9 [==============================] - 0s 2ms/step - loss: 0.0000e+00 - accuracy: 0.2471\n",
      "Epoch 5/100\n",
      "9/9 [==============================] - 0s 3ms/step - loss: 0.0000e+00 - accuracy: 0.2471\n",
      "Epoch 6/100\n",
      "9/9 [==============================] - 0s 3ms/step - loss: 0.0000e+00 - accuracy: 0.2471\n",
      "Epoch 7/100\n",
      "9/9 [==============================] - 0s 2ms/step - loss: 0.0000e+00 - accuracy: 0.2471\n",
      "Epoch 8/100\n",
      "9/9 [==============================] - 0s 3ms/step - loss: 0.0000e+00 - accuracy: 0.2471\n",
      "Epoch 9/100\n",
      "9/9 [==============================] - 0s 2ms/step - loss: 0.0000e+00 - accuracy: 0.2471\n",
      "Epoch 10/100\n",
      "9/9 [==============================] - 0s 2ms/step - loss: 0.0000e+00 - accuracy: 0.2471\n",
      "Epoch 11/100\n",
      "9/9 [==============================] - 0s 3ms/step - loss: 0.0000e+00 - accuracy: 0.2471\n",
      "Epoch 12/100\n",
      "9/9 [==============================] - 0s 3ms/step - loss: 0.0000e+00 - accuracy: 0.2471\n",
      "Epoch 13/100\n",
      "9/9 [==============================] - 0s 3ms/step - loss: 0.0000e+00 - accuracy: 0.2471\n",
      "Epoch 14/100\n",
      "9/9 [==============================] - 0s 3ms/step - loss: 0.0000e+00 - accuracy: 0.2471\n",
      "Epoch 15/100\n",
      "9/9 [==============================] - 0s 2ms/step - loss: 0.0000e+00 - accuracy: 0.2471\n",
      "Epoch 16/100\n",
      "9/9 [==============================] - 0s 3ms/step - loss: 0.0000e+00 - accuracy: 0.2471\n",
      "Epoch 17/100\n",
      "9/9 [==============================] - 0s 2ms/step - loss: 0.0000e+00 - accuracy: 0.2471\n",
      "Epoch 18/100\n",
      "9/9 [==============================] - 0s 2ms/step - loss: 0.0000e+00 - accuracy: 0.2471\n",
      "Epoch 19/100\n",
      "9/9 [==============================] - 0s 2ms/step - loss: 0.0000e+00 - accuracy: 0.2471\n",
      "Epoch 20/100\n",
      "9/9 [==============================] - 0s 3ms/step - loss: 0.0000e+00 - accuracy: 0.2471\n",
      "Epoch 21/100\n",
      "9/9 [==============================] - 0s 2ms/step - loss: 0.0000e+00 - accuracy: 0.2471\n",
      "Epoch 22/100\n",
      "9/9 [==============================] - 0s 3ms/step - loss: 0.0000e+00 - accuracy: 0.2471\n",
      "Epoch 23/100\n",
      "9/9 [==============================] - 0s 2ms/step - loss: 0.0000e+00 - accuracy: 0.2471\n",
      "Epoch 24/100\n",
      "9/9 [==============================] - 0s 2ms/step - loss: 0.0000e+00 - accuracy: 0.2471\n",
      "Epoch 25/100\n",
      "9/9 [==============================] - 0s 1ms/step - loss: 0.0000e+00 - accuracy: 0.2471\n",
      "Epoch 26/100\n",
      "9/9 [==============================] - 0s 3ms/step - loss: 0.0000e+00 - accuracy: 0.2471\n",
      "Epoch 27/100\n",
      "9/9 [==============================] - 0s 2ms/step - loss: 0.0000e+00 - accuracy: 0.2471\n",
      "Epoch 28/100\n",
      "9/9 [==============================] - 0s 2ms/step - loss: 0.0000e+00 - accuracy: 0.2471\n",
      "Epoch 29/100\n",
      "9/9 [==============================] - 0s 1ms/step - loss: 0.0000e+00 - accuracy: 0.2471\n",
      "Epoch 30/100\n",
      "9/9 [==============================] - 0s 3ms/step - loss: 0.0000e+00 - accuracy: 0.2471\n",
      "Epoch 31/100\n",
      "9/9 [==============================] - 0s 2ms/step - loss: 0.0000e+00 - accuracy: 0.2471\n",
      "Epoch 32/100\n",
      "9/9 [==============================] - 0s 2ms/step - loss: 0.0000e+00 - accuracy: 0.2471\n",
      "Epoch 33/100\n",
      "9/9 [==============================] - 0s 2ms/step - loss: 0.0000e+00 - accuracy: 0.2471\n",
      "Epoch 34/100\n",
      "9/9 [==============================] - 0s 3ms/step - loss: 0.0000e+00 - accuracy: 0.2471\n",
      "Epoch 35/100\n",
      "9/9 [==============================] - 0s 2ms/step - loss: 0.0000e+00 - accuracy: 0.2471\n",
      "Epoch 36/100\n",
      "9/9 [==============================] - 0s 2ms/step - loss: 0.0000e+00 - accuracy: 0.2471\n",
      "Epoch 37/100\n",
      "9/9 [==============================] - 0s 3ms/step - loss: 0.0000e+00 - accuracy: 0.2471\n",
      "Epoch 38/100\n",
      "9/9 [==============================] - 0s 2ms/step - loss: 0.0000e+00 - accuracy: 0.2471\n",
      "Epoch 39/100\n",
      "9/9 [==============================] - 0s 2ms/step - loss: 0.0000e+00 - accuracy: 0.2471\n",
      "Epoch 40/100\n",
      "9/9 [==============================] - 0s 2ms/step - loss: 0.0000e+00 - accuracy: 0.2471\n",
      "Epoch 41/100\n",
      "9/9 [==============================] - 0s 2ms/step - loss: 0.0000e+00 - accuracy: 0.2471\n",
      "Epoch 42/100\n",
      "9/9 [==============================] - 0s 2ms/step - loss: 0.0000e+00 - accuracy: 0.2471\n",
      "Epoch 43/100\n",
      "9/9 [==============================] - 0s 2ms/step - loss: 0.0000e+00 - accuracy: 0.2471\n",
      "Epoch 44/100\n",
      "9/9 [==============================] - 0s 2ms/step - loss: 0.0000e+00 - accuracy: 0.2471\n",
      "Epoch 45/100\n",
      "9/9 [==============================] - 0s 3ms/step - loss: 0.0000e+00 - accuracy: 0.2471\n",
      "Epoch 46/100\n",
      "9/9 [==============================] - 0s 2ms/step - loss: 0.0000e+00 - accuracy: 0.2471\n",
      "Epoch 47/100\n",
      "9/9 [==============================] - 0s 2ms/step - loss: 0.0000e+00 - accuracy: 0.2471\n",
      "Epoch 48/100\n",
      "9/9 [==============================] - 0s 3ms/step - loss: 0.0000e+00 - accuracy: 0.2471\n",
      "Epoch 49/100\n",
      "9/9 [==============================] - 0s 2ms/step - loss: 0.0000e+00 - accuracy: 0.2471\n",
      "Epoch 50/100\n",
      "9/9 [==============================] - 0s 2ms/step - loss: 0.0000e+00 - accuracy: 0.2471\n",
      "Epoch 51/100\n",
      "9/9 [==============================] - 0s 2ms/step - loss: 0.0000e+00 - accuracy: 0.2471\n",
      "Epoch 52/100\n",
      "9/9 [==============================] - 0s 2ms/step - loss: 0.0000e+00 - accuracy: 0.2471\n",
      "Epoch 53/100\n",
      "9/9 [==============================] - 0s 2ms/step - loss: 0.0000e+00 - accuracy: 0.2471\n",
      "Epoch 54/100\n",
      "9/9 [==============================] - 0s 3ms/step - loss: 0.0000e+00 - accuracy: 0.2471\n",
      "Epoch 55/100\n",
      "9/9 [==============================] - 0s 2ms/step - loss: 0.0000e+00 - accuracy: 0.2471\n",
      "Epoch 56/100\n",
      "9/9 [==============================] - 0s 2ms/step - loss: 0.0000e+00 - accuracy: 0.2471\n",
      "Epoch 57/100\n",
      "9/9 [==============================] - 0s 2ms/step - loss: 0.0000e+00 - accuracy: 0.2471\n",
      "Epoch 58/100\n",
      "9/9 [==============================] - 0s 2ms/step - loss: 0.0000e+00 - accuracy: 0.2471\n",
      "Epoch 59/100\n",
      "9/9 [==============================] - 0s 2ms/step - loss: 0.0000e+00 - accuracy: 0.2471\n",
      "Epoch 60/100\n",
      "9/9 [==============================] - 0s 3ms/step - loss: 0.0000e+00 - accuracy: 0.2471\n",
      "Epoch 61/100\n",
      "9/9 [==============================] - 0s 2ms/step - loss: 0.0000e+00 - accuracy: 0.2471\n",
      "Epoch 62/100\n",
      "9/9 [==============================] - 0s 2ms/step - loss: 0.0000e+00 - accuracy: 0.2471\n",
      "Epoch 63/100\n",
      "9/9 [==============================] - 0s 2ms/step - loss: 0.0000e+00 - accuracy: 0.2471\n",
      "Epoch 64/100\n",
      "9/9 [==============================] - 0s 2ms/step - loss: 0.0000e+00 - accuracy: 0.2471\n",
      "Epoch 65/100\n",
      "9/9 [==============================] - 0s 2ms/step - loss: 0.0000e+00 - accuracy: 0.2471\n",
      "Epoch 66/100\n",
      "9/9 [==============================] - 0s 2ms/step - loss: 0.0000e+00 - accuracy: 0.2471\n",
      "Epoch 67/100\n",
      "9/9 [==============================] - 0s 2ms/step - loss: 0.0000e+00 - accuracy: 0.2471\n",
      "Epoch 68/100\n",
      "9/9 [==============================] - 0s 2ms/step - loss: 0.0000e+00 - accuracy: 0.2471\n",
      "Epoch 69/100\n",
      "9/9 [==============================] - 0s 3ms/step - loss: 0.0000e+00 - accuracy: 0.2471\n",
      "Epoch 70/100\n",
      "9/9 [==============================] - 0s 3ms/step - loss: 0.0000e+00 - accuracy: 0.2471\n",
      "Epoch 71/100\n",
      "9/9 [==============================] - 0s 3ms/step - loss: 0.0000e+00 - accuracy: 0.2471\n",
      "Epoch 72/100\n",
      "9/9 [==============================] - 0s 2ms/step - loss: 0.0000e+00 - accuracy: 0.2471\n",
      "Epoch 73/100\n",
      "9/9 [==============================] - 0s 3ms/step - loss: 0.0000e+00 - accuracy: 0.2471\n",
      "Epoch 74/100\n",
      "9/9 [==============================] - 0s 2ms/step - loss: 0.0000e+00 - accuracy: 0.2471\n",
      "Epoch 75/100\n",
      "9/9 [==============================] - 0s 2ms/step - loss: 0.0000e+00 - accuracy: 0.2471\n",
      "Epoch 76/100\n",
      "9/9 [==============================] - 0s 3ms/step - loss: 0.0000e+00 - accuracy: 0.2471\n",
      "Epoch 77/100\n",
      "9/9 [==============================] - 0s 2ms/step - loss: 0.0000e+00 - accuracy: 0.2471\n",
      "Epoch 78/100\n",
      "9/9 [==============================] - 0s 3ms/step - loss: 0.0000e+00 - accuracy: 0.2471\n",
      "Epoch 79/100\n",
      "9/9 [==============================] - 0s 2ms/step - loss: 0.0000e+00 - accuracy: 0.2471\n",
      "Epoch 80/100\n",
      "9/9 [==============================] - 0s 2ms/step - loss: 0.0000e+00 - accuracy: 0.2471\n",
      "Epoch 81/100\n"
     ]
    },
    {
     "name": "stdout",
     "output_type": "stream",
     "text": [
      "9/9 [==============================] - 0s 2ms/step - loss: 0.0000e+00 - accuracy: 0.2471\n",
      "Epoch 82/100\n",
      "9/9 [==============================] - 0s 2ms/step - loss: 0.0000e+00 - accuracy: 0.2471\n",
      "Epoch 83/100\n",
      "9/9 [==============================] - 0s 3ms/step - loss: 0.0000e+00 - accuracy: 0.2471\n",
      "Epoch 84/100\n",
      "9/9 [==============================] - 0s 2ms/step - loss: 0.0000e+00 - accuracy: 0.2471\n",
      "Epoch 85/100\n",
      "9/9 [==============================] - 0s 2ms/step - loss: 0.0000e+00 - accuracy: 0.2471\n",
      "Epoch 86/100\n",
      "9/9 [==============================] - 0s 2ms/step - loss: 0.0000e+00 - accuracy: 0.2471\n",
      "Epoch 87/100\n",
      "9/9 [==============================] - 0s 2ms/step - loss: 0.0000e+00 - accuracy: 0.2471\n",
      "Epoch 88/100\n",
      "9/9 [==============================] - 0s 3ms/step - loss: 0.0000e+00 - accuracy: 0.2471\n",
      "Epoch 89/100\n",
      "9/9 [==============================] - 0s 2ms/step - loss: 0.0000e+00 - accuracy: 0.2471\n",
      "Epoch 90/100\n",
      "9/9 [==============================] - 0s 2ms/step - loss: 0.0000e+00 - accuracy: 0.2471\n",
      "Epoch 91/100\n",
      "9/9 [==============================] - 0s 2ms/step - loss: 0.0000e+00 - accuracy: 0.2471\n",
      "Epoch 92/100\n",
      "9/9 [==============================] - 0s 3ms/step - loss: 0.0000e+00 - accuracy: 0.2471\n",
      "Epoch 93/100\n",
      "9/9 [==============================] - 0s 2ms/step - loss: 0.0000e+00 - accuracy: 0.2471\n",
      "Epoch 94/100\n",
      "9/9 [==============================] - 0s 3ms/step - loss: 0.0000e+00 - accuracy: 0.2471\n",
      "Epoch 95/100\n",
      "9/9 [==============================] - 0s 3ms/step - loss: 0.0000e+00 - accuracy: 0.2471\n",
      "Epoch 96/100\n",
      "9/9 [==============================] - 0s 2ms/step - loss: 0.0000e+00 - accuracy: 0.2471\n",
      "Epoch 97/100\n",
      "9/9 [==============================] - 0s 2ms/step - loss: 0.0000e+00 - accuracy: 0.2471\n",
      "Epoch 98/100\n",
      "9/9 [==============================] - 0s 3ms/step - loss: 0.0000e+00 - accuracy: 0.2471\n",
      "Epoch 99/100\n",
      "9/9 [==============================] - 0s 2ms/step - loss: 0.0000e+00 - accuracy: 0.2471\n",
      "Epoch 100/100\n",
      "9/9 [==============================] - 0s 2ms/step - loss: 0.0000e+00 - accuracy: 0.2471\n"
     ]
    }
   ],
   "source": [
    "import tensorflow as tf\n",
    "from tensorflow import keras\n",
    "from sklearn.metrics import classification_report, confusion_matrix, accuracy_score\n",
    "\n",
    "model = keras.Sequential([\n",
    "    keras.layers.Dense(20, input_dim=x_train.shape[1], activation = 'relu'),\n",
    "    keras.layers.Dense(15, activation = 'relu'),\n",
    "    keras.layers.Dense(1, activation = 'sigmoid')\n",
    "])\n",
    "\n",
    "model.compile(optimizer='adam',\n",
    "             loss = 'CategoricalCrossentropy',\n",
    "             metrics = ['accuracy'])\n",
    "\n",
    "train_model = model.fit(x_train, y_train, batch_size=32, epochs = 100)"
   ]
  },
  {
   "cell_type": "code",
   "execution_count": 21,
   "id": "7d778130",
   "metadata": {},
   "outputs": [
    {
     "name": "stdout",
     "output_type": "stream",
     "text": [
      "Model: \"sequential\"\n",
      "_________________________________________________________________\n",
      " Layer (type)                Output Shape              Param #   \n",
      "=================================================================\n",
      " dense (Dense)               (None, 20)                380       \n",
      "                                                                 \n",
      " dense_1 (Dense)             (None, 15)                315       \n",
      "                                                                 \n",
      " dense_2 (Dense)             (None, 1)                 16        \n",
      "                                                                 \n",
      "=================================================================\n",
      "Total params: 711\n",
      "Trainable params: 711\n",
      "Non-trainable params: 0\n",
      "_________________________________________________________________\n"
     ]
    }
   ],
   "source": [
    "model.summary()"
   ]
  },
  {
   "cell_type": "code",
   "execution_count": 22,
   "id": "b8b1b039",
   "metadata": {},
   "outputs": [
    {
     "name": "stdout",
     "output_type": "stream",
     "text": [
      "3/3 [==============================] - 0s 4ms/step - loss: 0.0000e+00 - accuracy: 0.2615\n"
     ]
    },
    {
     "data": {
      "text/plain": [
       "[0.0, 0.26153847575187683]"
      ]
     },
     "execution_count": 22,
     "metadata": {},
     "output_type": "execute_result"
    }
   ],
   "source": [
    "# accuracy of model..\n",
    "\n",
    "model.evaluate(x_test, y_test)"
   ]
  },
  {
   "cell_type": "code",
   "execution_count": 23,
   "id": "1e8eb061",
   "metadata": {},
   "outputs": [
    {
     "name": "stdout",
     "output_type": "stream",
     "text": [
      "3/3 [==============================] - 0s 3ms/step\n"
     ]
    }
   ],
   "source": [
    "# predict the model..\n",
    "\n",
    "y_pred = model.predict(x_test)\n",
    "y_pred = np.round(y_pred)"
   ]
  },
  {
   "cell_type": "code",
   "execution_count": 24,
   "id": "3868049c",
   "metadata": {},
   "outputs": [
    {
     "name": "stdout",
     "output_type": "stream",
     "text": [
      "              precision    recall  f1-score   support\n",
      "\n",
      "           1       0.26      1.00      0.41        17\n",
      "           2       0.00      0.00      0.00        16\n",
      "           3       0.00      0.00      0.00        16\n",
      "           4       0.00      0.00      0.00        16\n",
      "\n",
      "    accuracy                           0.26        65\n",
      "   macro avg       0.07      0.25      0.10        65\n",
      "weighted avg       0.07      0.26      0.11        65\n",
      "\n"
     ]
    }
   ],
   "source": [
    "# classification report..\n",
    "\n",
    "print(classification_report(y_test, y_pred))"
   ]
  },
  {
   "cell_type": "code",
   "execution_count": 25,
   "id": "6f3c6572",
   "metadata": {},
   "outputs": [
    {
     "data": {
      "text/plain": [
       "<AxesSubplot:>"
      ]
     },
     "execution_count": 25,
     "metadata": {},
     "output_type": "execute_result"
    },
    {
     "data": {
      "image/png": "[encoded data removed]",
      "text/plain": [
       "<Figure size 432x288 with 2 Axes>"
      ]
     },
     "metadata": {
      "needs_background": "light"
     },
     "output_type": "display_data"
    }
   ],
   "source": [
    "# confusion matrix..\n",
    "\n",
    "sns.heatmap(confusion_matrix(y_test, y_pred), annot = True, annot_kws={\"size\": 16})"
   ]
  },
  {
   "cell_type": "markdown",
   "id": "9a6e835b",
   "metadata": {},
   "source": [
    "## GridSearchCV:"
   ]
  },
  {
   "cell_type": "code",
   "execution_count": 26,
   "id": "405520a8",
   "metadata": {},
   "outputs": [
    {
     "data": {
      "text/plain": [
       "dict_keys(['bootstrap', 'ccp_alpha', 'class_weight', 'criterion', 'max_depth', 'max_features', 'max_leaf_nodes', 'max_samples', 'min_impurity_decrease', 'min_samples_leaf', 'min_samples_split', 'min_weight_fraction_leaf', 'n_estimators', 'n_jobs', 'oob_score', 'random_state', 'verbose', 'warm_start'])"
      ]
     },
     "execution_count": 26,
     "metadata": {},
     "output_type": "execute_result"
    }
   ],
   "source": [
    "from sklearn.model_selection import GridSearchCV\n",
    "from sklearn.ensemble import RandomForestClassifier\n",
    "\n",
    "# to check parameters of model\n",
    "RandomForestClassifier().get_params().keys()"
   ]
  },
  {
   "cell_type": "code",
   "execution_count": 27,
   "id": "bd283083",
   "metadata": {},
   "outputs": [
    {
     "name": "stdout",
     "output_type": "stream",
     "text": [
      "Fitting 10 folds for each of 578 candidates, totalling 5780 fits\n"
     ]
    }
   ],
   "source": [
    "parameter = {   'bootstrap'   : [True],\n",
    "                'max_depth'   : [i for i in range(3,20)],\n",
    "                'criterion'   : ['entropy'],\n",
    "                'n_estimators': [i for i in range(3,20)],\n",
    "                'max_features': ['auto', 'log2']    }\n",
    "\n",
    "gscv = GridSearchCV(RandomForestClassifier(),parameter,cv=10,n_jobs=-1,verbose=1)\n",
    "\n",
    "model2 = gscv.fit(x_train,y_train)"
   ]
  },
  {
   "cell_type": "code",
   "execution_count": 28,
   "id": "a144f7df",
   "metadata": {},
   "outputs": [
    {
     "data": {
      "text/html": [
       "<style>#sk-container-id-1 {color: black;background-color: white;}#sk-container-id-1 pre{padding: 0;}#sk-container-id-1 div.sk-toggleable {background-color: white;}#sk-container-id-1 label.sk-toggleable__label {cursor: pointer;display: block;width: 100%;margin-bottom: 0;padding: 0.3em;box-sizing: border-box;text-align: center;}#sk-container-id-1 label.sk-toggleable__label-arrow:before {content: \"▸\";float: left;margin-right: 0.25em;color: #696969;}#sk-container-id-1 label.sk-toggleable__label-arrow:hover:before {color: black;}#sk-container-id-1 div.sk-estimator:hover label.sk-toggleable__label-arrow:before {color: black;}#sk-container-id-1 div.sk-toggleable__content {max-height: 0;max-width: 0;overflow: hidden;text-align: left;background-color: #f0f8ff;}#sk-container-id-1 div.sk-toggleable__content pre {margin: 0.2em;color: black;border-radius: 0.25em;background-color: #f0f8ff;}#sk-container-id-1 input.sk-toggleable__control:checked~div.sk-toggleable__content {max-height: 200px;max-width: 100%;overflow: auto;}#sk-container-id-1 input.sk-toggleable__control:checked~label.sk-toggleable__label-arrow:before {content: \"▾\";}#sk-container-id-1 div.sk-estimator input.sk-toggleable__control:checked~label.sk-toggleable__label {background-color: #d4ebff;}#sk-container-id-1 div.sk-label input.sk-toggleable__control:checked~label.sk-toggleable__label {background-color: #d4ebff;}#sk-container-id-1 input.sk-hidden--visually {border: 0;clip: rect(1px 1px 1px 1px);clip: rect(1px, 1px, 1px, 1px);height: 1px;margin: -1px;overflow: hidden;padding: 0;position: absolute;width: 1px;}#sk-container-id-1 div.sk-estimator {font-family: monospace;background-color: #f0f8ff;border: 1px dotted black;border-radius: 0.25em;box-sizing: border-box;margin-bottom: 0.5em;}#sk-container-id-1 div.sk-estimator:hover {background-color: #d4ebff;}#sk-container-id-1 div.sk-parallel-item::after {content: \"\";width: 100%;border-bottom: 1px solid gray;flex-grow: 1;}#sk-container-id-1 div.sk-label:hover label.sk-toggleable__label {background-color: #d4ebff;}#sk-container-id-1 div.sk-serial::before {content: \"\";position: absolute;border-left: 1px solid gray;box-sizing: border-box;top: 0;bottom: 0;left: 50%;z-index: 0;}#sk-container-id-1 div.sk-serial {display: flex;flex-direction: column;align-items: center;background-color: white;padding-right: 0.2em;padding-left: 0.2em;position: relative;}#sk-container-id-1 div.sk-item {position: relative;z-index: 1;}#sk-container-id-1 div.sk-parallel {display: flex;align-items: stretch;justify-content: center;background-color: white;position: relative;}#sk-container-id-1 div.sk-item::before, #sk-container-id-1 div.sk-parallel-item::before {content: \"\";position: absolute;border-left: 1px solid gray;box-sizing: border-box;top: 0;bottom: 0;left: 50%;z-index: -1;}#sk-container-id-1 div.sk-parallel-item {display: flex;flex-direction: column;z-index: 1;position: relative;background-color: white;}#sk-container-id-1 div.sk-parallel-item:first-child::after {align-self: flex-end;width: 50%;}#sk-container-id-1 div.sk-parallel-item:last-child::after {align-self: flex-start;width: 50%;}#sk-container-id-1 div.sk-parallel-item:only-child::after {width: 0;}#sk-container-id-1 div.sk-dashed-wrapped {border: 1px dashed gray;margin: 0 0.4em 0.5em 0.4em;box-sizing: border-box;padding-bottom: 0.4em;background-color: white;}#sk-container-id-1 div.sk-label label {font-family: monospace;font-weight: bold;display: inline-block;line-height: 1.2em;}#sk-container-id-1 div.sk-label-container {text-align: center;}#sk-container-id-1 div.sk-container {/* jupyter's `normalize.less` sets `[hidden] { display: none; }` but bootstrap.min.css set `[hidden] { display: none !important; }` so we also need the `!important` here to be able to override the default hidden behavior on the sphinx rendered scikit-learn.org. See: https://github.com/scikit-learn/scikit-learn/issues/21755 */display: inline-block !important;position: relative;}#sk-container-id-1 div.sk-text-repr-fallback {display: none;}</style><div id=\"sk-container-id-1\" class=\"sk-top-container\"><div class=\"sk-text-repr-fallback\"><pre>RandomForestClassifier(criterion=&#x27;entropy&#x27;, max_depth=12, max_features=&#x27;log2&#x27;,\n",
       "                       n_estimators=19)</pre><b>In a Jupyter environment, please rerun this cell to show the HTML representation or trust the notebook. <br />On GitHub, the HTML representation is unable to render, please try loading this page with nbviewer.org.</b></div><div class=\"sk-container\" hidden><div class=\"sk-item\"><div class=\"sk-estimator sk-toggleable\"><input class=\"sk-toggleable__control sk-hidden--visually\" id=\"sk-estimator-id-1\" type=\"checkbox\" checked><label for=\"sk-estimator-id-1\" class=\"sk-toggleable__label sk-toggleable__label-arrow\">RandomForestClassifier</label><div class=\"sk-toggleable__content\"><pre>RandomForestClassifier(criterion=&#x27;entropy&#x27;, max_depth=12, max_features=&#x27;log2&#x27;,\n",
       "                       n_estimators=19)</pre></div></div></div></div></div>"
      ],
      "text/plain": [
       "RandomForestClassifier(criterion='entropy', max_depth=12, max_features='log2',\n",
       "                       n_estimators=19)"
      ]
     },
     "execution_count": 28,
     "metadata": {},
     "output_type": "execute_result"
    }
   ],
   "source": [
    "gscv.best_estimator_"
   ]
  },
  {
   "cell_type": "code",
   "execution_count": 29,
   "id": "22786940",
   "metadata": {},
   "outputs": [
    {
     "data": {
      "text/plain": [
       "0.9576923076923076"
      ]
     },
     "execution_count": 29,
     "metadata": {},
     "output_type": "execute_result"
    }
   ],
   "source": [
    "gscv.best_score_"
   ]
  },
  {
   "cell_type": "code",
   "execution_count": 30,
   "id": "8c85c2bb",
   "metadata": {},
   "outputs": [],
   "source": [
    "y_pred_gscv = gscv.predict(x_test)"
   ]
  },
  {
   "cell_type": "code",
   "execution_count": 31,
   "id": "ae60651c",
   "metadata": {},
   "outputs": [
    {
     "name": "stdout",
     "output_type": "stream",
     "text": [
      "              precision    recall  f1-score   support\n",
      "\n",
      "           1       1.00      1.00      1.00        17\n",
      "           2       0.92      0.75      0.83        16\n",
      "           3       0.79      0.94      0.86        16\n",
      "           4       1.00      1.00      1.00        16\n",
      "\n",
      "    accuracy                           0.92        65\n",
      "   macro avg       0.93      0.92      0.92        65\n",
      "weighted avg       0.93      0.92      0.92        65\n",
      "\n"
     ]
    }
   ],
   "source": [
    "print(classification_report(y_test, y_pred_gscv))"
   ]
  },
  {
   "cell_type": "code",
   "execution_count": 32,
   "id": "029cad7d",
   "metadata": {},
   "outputs": [
    {
     "data": {
      "text/plain": [
       "<AxesSubplot:>"
      ]
     },
     "execution_count": 32,
     "metadata": {},
     "output_type": "execute_result"
    },
    {
     "data": {
      "image/png": "[encoded data removed]",
      "text/plain": [
       "<Figure size 432x288 with 2 Axes>"
      ]
     },
     "metadata": {
      "needs_background": "light"
     },
     "output_type": "display_data"
    }
   ],
   "source": [
    "sns.heatmap(confusion_matrix(y_pred_gscv,y_test),annot=True)"
   ]
  },
  {
   "cell_type": "markdown",
   "id": "2e94d4a9",
   "metadata": {},
   "source": [
    "## Accuracy and Loss curve:"
   ]
  },
  {
   "cell_type": "code",
   "execution_count": 39,
   "id": "572ae703",
   "metadata": {},
   "outputs": [
    {
     "data": {
      "image/png": "[encoded data removed]",
      "text/plain": [
       "<Figure size 432x288 with 1 Axes>"
      ]
     },
     "metadata": {
      "needs_background": "light"
     },
     "output_type": "display_data"
    },
    {
     "data": {
      "text/plain": [
       "<Figure size 432x288 with 0 Axes>"
      ]
     },
     "metadata": {},
     "output_type": "display_data"
    }
   ],
   "source": [
    "plt.plot(train_model.history['loss'], label='train loss')\n",
    "\n",
    "# plt.plot(r.history['val_loss'], label='val loss')\n",
    "\n",
    "plt.title('Train Loss', size=14)\n",
    "plt.legend()\n",
    "plt.show()\n",
    "plt.savefig('LossVal_loss')"
   ]
  },
  {
   "cell_type": "code",
   "execution_count": 41,
   "id": "d65e48f0",
   "metadata": {},
   "outputs": [
    {
     "data": {
      "image/png": "[encoded data removed]",
      "text/plain": [
       "<Figure size 432x288 with 1 Axes>"
      ]
     },
     "metadata": {
      "needs_background": "light"
     },
     "output_type": "display_data"
    },
    {
     "data": {
      "text/plain": [
       "<Figure size 432x288 with 0 Axes>"
      ]
     },
     "metadata": {},
     "output_type": "display_data"
    }
   ],
   "source": [
    "plt.plot(train_model.history['accuracy'], label='train acc')\n",
    "\n",
    "# plt.plot(hist.history['val_accuracy'], label='val acc')\n",
    "\n",
    "plt.title('Train Accuracy', size=14)\n",
    "plt.legend()\n",
    "plt.show()\n",
    "plt.savefig('AccVal_acc')"
   ]
  },
  {
   "cell_type": "markdown",
   "id": "4a3ffa91",
   "metadata": {},
   "source": [
    "## Test the model:"
   ]
  },
  {
   "cell_type": "code",
   "execution_count": 50,
   "id": "5adca5dc",
   "metadata": {},
   "outputs": [
    {
     "data": {
      "text/plain": [
       "0.9230769230769231"
      ]
     },
     "execution_count": 50,
     "metadata": {},
     "output_type": "execute_result"
    }
   ],
   "source": [
    "model2.score(x_test, y_test)"
   ]
  },
  {
   "cell_type": "code",
   "execution_count": 51,
   "id": "6fcb4fd7",
   "metadata": {},
   "outputs": [
    {
     "data": {
      "text/plain": [
       "0.9230769230769231"
      ]
     },
     "execution_count": 51,
     "metadata": {},
     "output_type": "execute_result"
    }
   ],
   "source": [
    "accuracy_score(y_test, y_pred_gscv)"
   ]
  },
  {
   "cell_type": "code",
   "execution_count": 64,
   "id": "520e05ec",
   "metadata": {},
   "outputs": [
    {
     "data": {
      "text/plain": [
       "0.9576923076923076"
      ]
     },
     "execution_count": 64,
     "metadata": {},
     "output_type": "execute_result"
    }
   ],
   "source": [
    "gscv.best_score_"
   ]
  },
  {
   "cell_type": "code",
   "execution_count": null,
   "id": "f0c4c61c",
   "metadata": {},
   "outputs": [],
   "source": []
  },
  {
   "cell_type": "code",
   "execution_count": null,
   "id": "e9f1bc50",
   "metadata": {},
   "outputs": [],
   "source": []
  }
 ],
 "metadata": {
  "kernelspec": {
   "display_name": "Python 3 (ipykernel)",
   "language": "python",
   "name": "python3"
  },
  "language_info": {
   "codemirror_mode": {
    "name": "ipython",
    "version": 3
   },
   "file_extension": ".py",
   "mimetype": "text/x-python",
   "name": "python",
   "nbconvert_exporter": "python",
   "pygments_lexer": "ipython3",
   "version": "3.9.7"
  }
 },
 "nbformat": 4,
 "nbformat_minor": 5
}
